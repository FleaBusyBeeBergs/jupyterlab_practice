{
 "cells": [
  {
   "cell_type": "markdown",
   "id": "9ce8907d-6c2c-4fb4-bf44-d8d2759f11e8",
   "metadata": {},
   "source": [
    "# Felicia Bergstrom \n",
    "##### Notebook for assignment 7"
   ]
  },
  {
   "cell_type": "code",
   "execution_count": 5,
   "id": "29da0644-1f65-4031-82e1-f9ebe4fecb50",
   "metadata": {
    "tags": []
   },
   "outputs": [
    {
     "name": "stdout",
     "output_type": "stream",
     "text": [
      "5.0\n"
     ]
    }
   ],
   "source": [
    "# make function\n",
    "def compute_mean(list):\n",
    "    \n",
    "    # calc mean of list\n",
    "    mean = sum(list) / len(list)   \n",
    "    \n",
    "    # print mean of list\n",
    "    print(mean)\n",
    "    \n",
    "compute_mean([2, 4, 6, 8])    "
   ]
  },
  {
   "cell_type": "markdown",
   "id": "d6d727be-14ca-406d-8181-e724bd2eca1c",
   "metadata": {},
   "source": [
    "The above function compute_mean( ) finds the mean of a list by:\n",
    "* summing all the values in the list\n",
    "* dividing the sum by the number of entries in the list\n",
    "\n",
    "This may also be expressed as: <br>\n",
    "$ \\overline{x} = \\frac{x_1 + x_2 + ... + x_n}{n} = \\frac{1}{n} \\left( \\sum\\limits_{i=1}^{n} x_i \\right) $"
   ]
  }
 ],
 "metadata": {
  "kernelspec": {
   "display_name": "Python [conda env:root] *",
   "language": "python",
   "name": "conda-root-py"
  },
  "language_info": {
   "codemirror_mode": {
    "name": "ipython",
    "version": 3
   },
   "file_extension": ".py",
   "mimetype": "text/x-python",
   "name": "python",
   "nbconvert_exporter": "python",
   "pygments_lexer": "ipython3",
   "version": "3.11.4"
  }
 },
 "nbformat": 4,
 "nbformat_minor": 5
}
