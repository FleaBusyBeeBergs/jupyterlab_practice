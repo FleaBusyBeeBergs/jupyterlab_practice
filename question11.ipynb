{
 "cells": [
  {
   "cell_type": "markdown",

   "id": "5168401f-8804-4940-9b46-c5cb5df1f31e",
   "metadata": {},
   "source": [
    "# Felicia Bergstrom\n",
    "\n",
    "#### Notebook for assignment 7"

   ]
  },
  {
   "cell_type": "code",

   "execution_count": 1,
   "id": "8f502479-8416-472e-b9ae-c2fcdaec3349",

   "metadata": {
    "tags": []
   },
   "outputs": [
    {
     "name": "stdout",
     "output_type": "stream",
     "text": [
      "5.0\n"
     ]
    }
   ],
   "source": [
    "# make function to compute mean of series\n",
    "def compute_mean(list):\n",
    "    \n",
    "    # calc mean of list\n",
    "    mean = sum(list) / len(list)\n",

    "    \n",
    "    # print mean of list\n",
    "    print(mean)\n",
    "    \n",
    "compute_mean([2, 4, 6, 8])    "
   ]
  },
  {
   "cell_type": "markdown",

   "id": "f4650f12-beb6-4628-ad93-c63661eaea0c",
   "metadata": {},
   "source": [
    "The above function comute_mean( ) finds the mean of a list by:\n",
    "\n",
    "* summing all the values in the list\n",
    "* dividing the sum by the numbers of entried in the list\n",
    "\n",
    "This may also be expressed as: <br>\n",
    "$ \\overline{x}  = \\frac{x_1 + x_2 + ... + x_n}{n} = \\frac{1}{n} \\left(\\sum\\limits_{i=1}^{n} x_i\\right)$"

   ]
  }
 ],
 "metadata": {
  "kernelspec": {
   "display_name": "Python [conda env:root] *",
   "language": "python",
   "name": "conda-root-py"
  },
  "language_info": {
   "codemirror_mode": {
    "name": "ipython",
    "version": 3
   },
   "file_extension": ".py",
   "mimetype": "text/x-python",
   "name": "python",
   "nbconvert_exporter": "python",
   "pygments_lexer": "ipython3",
   "version": "3.11.4"
  }
 },
 "nbformat": 4,
 "nbformat_minor": 5
}
